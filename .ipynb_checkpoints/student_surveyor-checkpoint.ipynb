{
 "cells": [
  {
   "cell_type": "code",
   "execution_count": 1,
   "metadata": {},
   "outputs": [
    {
     "data": {
      "text/html": [
       "\n",
       "    <div class=\"bk-root\">\n",
       "        <a href=\"https://bokeh.pydata.org\" target=\"_blank\" class=\"bk-logo bk-logo-small bk-logo-notebook\"></a>\n",
       "        <span id=\"1001\">Loading BokehJS ...</span>\n",
       "    </div>"
      ]
     },
     "metadata": {},
     "output_type": "display_data"
    },
    {
     "data": {
      "application/javascript": [
       "\n",
       "(function(root) {\n",
       "  function now() {\n",
       "    return new Date();\n",
       "  }\n",
       "\n",
       "  var force = true;\n",
       "\n",
       "  if (typeof root._bokeh_onload_callbacks === \"undefined\" || force === true) {\n",
       "    root._bokeh_onload_callbacks = [];\n",
       "    root._bokeh_is_loading = undefined;\n",
       "  }\n",
       "\n",
       "  var JS_MIME_TYPE = 'application/javascript';\n",
       "  var HTML_MIME_TYPE = 'text/html';\n",
       "  var EXEC_MIME_TYPE = 'application/vnd.bokehjs_exec.v0+json';\n",
       "  var CLASS_NAME = 'output_bokeh rendered_html';\n",
       "\n",
       "  /**\n",
       "   * Render data to the DOM node\n",
       "   */\n",
       "  function render(props, node) {\n",
       "    var script = document.createElement(\"script\");\n",
       "    node.appendChild(script);\n",
       "  }\n",
       "\n",
       "  /**\n",
       "   * Handle when an output is cleared or removed\n",
       "   */\n",
       "  function handleClearOutput(event, handle) {\n",
       "    var cell = handle.cell;\n",
       "\n",
       "    var id = cell.output_area._bokeh_element_id;\n",
       "    var server_id = cell.output_area._bokeh_server_id;\n",
       "    // Clean up Bokeh references\n",
       "    if (id != null && id in Bokeh.index) {\n",
       "      Bokeh.index[id].model.document.clear();\n",
       "      delete Bokeh.index[id];\n",
       "    }\n",
       "\n",
       "    if (server_id !== undefined) {\n",
       "      // Clean up Bokeh references\n",
       "      var cmd = \"from bokeh.io.state import curstate; print(curstate().uuid_to_server['\" + server_id + \"'].get_sessions()[0].document.roots[0]._id)\";\n",
       "      cell.notebook.kernel.execute(cmd, {\n",
       "        iopub: {\n",
       "          output: function(msg) {\n",
       "            var id = msg.content.text.trim();\n",
       "            if (id in Bokeh.index) {\n",
       "              Bokeh.index[id].model.document.clear();\n",
       "              delete Bokeh.index[id];\n",
       "            }\n",
       "          }\n",
       "        }\n",
       "      });\n",
       "      // Destroy server and session\n",
       "      var cmd = \"import bokeh.io.notebook as ion; ion.destroy_server('\" + server_id + \"')\";\n",
       "      cell.notebook.kernel.execute(cmd);\n",
       "    }\n",
       "  }\n",
       "\n",
       "  /**\n",
       "   * Handle when a new output is added\n",
       "   */\n",
       "  function handleAddOutput(event, handle) {\n",
       "    var output_area = handle.output_area;\n",
       "    var output = handle.output;\n",
       "\n",
       "    // limit handleAddOutput to display_data with EXEC_MIME_TYPE content only\n",
       "    if ((output.output_type != \"display_data\") || (!output.data.hasOwnProperty(EXEC_MIME_TYPE))) {\n",
       "      return\n",
       "    }\n",
       "\n",
       "    var toinsert = output_area.element.find(\".\" + CLASS_NAME.split(' ')[0]);\n",
       "\n",
       "    if (output.metadata[EXEC_MIME_TYPE][\"id\"] !== undefined) {\n",
       "      toinsert[toinsert.length - 1].firstChild.textContent = output.data[JS_MIME_TYPE];\n",
       "      // store reference to embed id on output_area\n",
       "      output_area._bokeh_element_id = output.metadata[EXEC_MIME_TYPE][\"id\"];\n",
       "    }\n",
       "    if (output.metadata[EXEC_MIME_TYPE][\"server_id\"] !== undefined) {\n",
       "      var bk_div = document.createElement(\"div\");\n",
       "      bk_div.innerHTML = output.data[HTML_MIME_TYPE];\n",
       "      var script_attrs = bk_div.children[0].attributes;\n",
       "      for (var i = 0; i < script_attrs.length; i++) {\n",
       "        toinsert[toinsert.length - 1].firstChild.setAttribute(script_attrs[i].name, script_attrs[i].value);\n",
       "      }\n",
       "      // store reference to server id on output_area\n",
       "      output_area._bokeh_server_id = output.metadata[EXEC_MIME_TYPE][\"server_id\"];\n",
       "    }\n",
       "  }\n",
       "\n",
       "  function register_renderer(events, OutputArea) {\n",
       "\n",
       "    function append_mime(data, metadata, element) {\n",
       "      // create a DOM node to render to\n",
       "      var toinsert = this.create_output_subarea(\n",
       "        metadata,\n",
       "        CLASS_NAME,\n",
       "        EXEC_MIME_TYPE\n",
       "      );\n",
       "      this.keyboard_manager.register_events(toinsert);\n",
       "      // Render to node\n",
       "      var props = {data: data, metadata: metadata[EXEC_MIME_TYPE]};\n",
       "      render(props, toinsert[toinsert.length - 1]);\n",
       "      element.append(toinsert);\n",
       "      return toinsert\n",
       "    }\n",
       "\n",
       "    /* Handle when an output is cleared or removed */\n",
       "    events.on('clear_output.CodeCell', handleClearOutput);\n",
       "    events.on('delete.Cell', handleClearOutput);\n",
       "\n",
       "    /* Handle when a new output is added */\n",
       "    events.on('output_added.OutputArea', handleAddOutput);\n",
       "\n",
       "    /**\n",
       "     * Register the mime type and append_mime function with output_area\n",
       "     */\n",
       "    OutputArea.prototype.register_mime_type(EXEC_MIME_TYPE, append_mime, {\n",
       "      /* Is output safe? */\n",
       "      safe: true,\n",
       "      /* Index of renderer in `output_area.display_order` */\n",
       "      index: 0\n",
       "    });\n",
       "  }\n",
       "\n",
       "  // register the mime type if in Jupyter Notebook environment and previously unregistered\n",
       "  if (root.Jupyter !== undefined) {\n",
       "    var events = require('base/js/events');\n",
       "    var OutputArea = require('notebook/js/outputarea').OutputArea;\n",
       "\n",
       "    if (OutputArea.prototype.mime_types().indexOf(EXEC_MIME_TYPE) == -1) {\n",
       "      register_renderer(events, OutputArea);\n",
       "    }\n",
       "  }\n",
       "\n",
       "  \n",
       "  if (typeof (root._bokeh_timeout) === \"undefined\" || force === true) {\n",
       "    root._bokeh_timeout = Date.now() + 5000;\n",
       "    root._bokeh_failed_load = false;\n",
       "  }\n",
       "\n",
       "  var NB_LOAD_WARNING = {'data': {'text/html':\n",
       "     \"<div style='background-color: #fdd'>\\n\"+\n",
       "     \"<p>\\n\"+\n",
       "     \"BokehJS does not appear to have successfully loaded. If loading BokehJS from CDN, this \\n\"+\n",
       "     \"may be due to a slow or bad network connection. Possible fixes:\\n\"+\n",
       "     \"</p>\\n\"+\n",
       "     \"<ul>\\n\"+\n",
       "     \"<li>re-rerun `output_notebook()` to attempt to load from CDN again, or</li>\\n\"+\n",
       "     \"<li>use INLINE resources instead, as so:</li>\\n\"+\n",
       "     \"</ul>\\n\"+\n",
       "     \"<code>\\n\"+\n",
       "     \"from bokeh.resources import INLINE\\n\"+\n",
       "     \"output_notebook(resources=INLINE)\\n\"+\n",
       "     \"</code>\\n\"+\n",
       "     \"</div>\"}};\n",
       "\n",
       "  function display_loaded() {\n",
       "    var el = document.getElementById(\"1001\");\n",
       "    if (el != null) {\n",
       "      el.textContent = \"BokehJS is loading...\";\n",
       "    }\n",
       "    if (root.Bokeh !== undefined) {\n",
       "      if (el != null) {\n",
       "        el.textContent = \"BokehJS \" + root.Bokeh.version + \" successfully loaded.\";\n",
       "      }\n",
       "    } else if (Date.now() < root._bokeh_timeout) {\n",
       "      setTimeout(display_loaded, 100)\n",
       "    }\n",
       "  }\n",
       "\n",
       "\n",
       "  function run_callbacks() {\n",
       "    try {\n",
       "      root._bokeh_onload_callbacks.forEach(function(callback) {\n",
       "        if (callback != null)\n",
       "          callback();\n",
       "      });\n",
       "    } finally {\n",
       "      delete root._bokeh_onload_callbacks\n",
       "    }\n",
       "    console.debug(\"Bokeh: all callbacks have finished\");\n",
       "  }\n",
       "\n",
       "  function load_libs(css_urls, js_urls, callback) {\n",
       "    if (css_urls == null) css_urls = [];\n",
       "    if (js_urls == null) js_urls = [];\n",
       "\n",
       "    root._bokeh_onload_callbacks.push(callback);\n",
       "    if (root._bokeh_is_loading > 0) {\n",
       "      console.debug(\"Bokeh: BokehJS is being loaded, scheduling callback at\", now());\n",
       "      return null;\n",
       "    }\n",
       "    if (js_urls == null || js_urls.length === 0) {\n",
       "      run_callbacks();\n",
       "      return null;\n",
       "    }\n",
       "    console.debug(\"Bokeh: BokehJS not loaded, scheduling load and callback at\", now());\n",
       "    root._bokeh_is_loading = css_urls.length + js_urls.length;\n",
       "\n",
       "    function on_load() {\n",
       "      root._bokeh_is_loading--;\n",
       "      if (root._bokeh_is_loading === 0) {\n",
       "        console.debug(\"Bokeh: all BokehJS libraries/stylesheets loaded\");\n",
       "        run_callbacks()\n",
       "      }\n",
       "    }\n",
       "\n",
       "    function on_error() {\n",
       "      console.error(\"failed to load \" + url);\n",
       "    }\n",
       "\n",
       "    for (var i = 0; i < css_urls.length; i++) {\n",
       "      var url = css_urls[i];\n",
       "      const element = document.createElement(\"link\");\n",
       "      element.onload = on_load;\n",
       "      element.onerror = on_error;\n",
       "      element.rel = \"stylesheet\";\n",
       "      element.type = \"text/css\";\n",
       "      element.href = url;\n",
       "      console.debug(\"Bokeh: injecting link tag for BokehJS stylesheet: \", url);\n",
       "      document.body.appendChild(element);\n",
       "    }\n",
       "\n",
       "    for (var i = 0; i < js_urls.length; i++) {\n",
       "      var url = js_urls[i];\n",
       "      var element = document.createElement('script');\n",
       "      element.onload = on_load;\n",
       "      element.onerror = on_error;\n",
       "      element.async = false;\n",
       "      element.src = url;\n",
       "      console.debug(\"Bokeh: injecting script tag for BokehJS library: \", url);\n",
       "      document.head.appendChild(element);\n",
       "    }\n",
       "  };var element = document.getElementById(\"1001\");\n",
       "  if (element == null) {\n",
       "    console.error(\"Bokeh: ERROR: autoload.js configured with elementid '1001' but no matching script tag was found. \")\n",
       "    return false;\n",
       "  }\n",
       "\n",
       "  function inject_raw_css(css) {\n",
       "    const element = document.createElement(\"style\");\n",
       "    element.appendChild(document.createTextNode(css));\n",
       "    document.body.appendChild(element);\n",
       "  }\n",
       "\n",
       "  var js_urls = [\"https://cdn.pydata.org/bokeh/release/bokeh-1.3.4.min.js\", \"https://cdn.pydata.org/bokeh/release/bokeh-widgets-1.3.4.min.js\", \"https://cdn.pydata.org/bokeh/release/bokeh-tables-1.3.4.min.js\", \"https://cdn.pydata.org/bokeh/release/bokeh-gl-1.3.4.min.js\"];\n",
       "  var css_urls = [];\n",
       "\n",
       "  var inline_js = [\n",
       "    function(Bokeh) {\n",
       "      Bokeh.set_log_level(\"info\");\n",
       "    },\n",
       "    \n",
       "    function(Bokeh) {\n",
       "      \n",
       "    },\n",
       "    function(Bokeh) {} // ensure no trailing comma for IE\n",
       "  ];\n",
       "\n",
       "  function run_inline_js() {\n",
       "    \n",
       "    if ((root.Bokeh !== undefined) || (force === true)) {\n",
       "      for (var i = 0; i < inline_js.length; i++) {\n",
       "        inline_js[i].call(root, root.Bokeh);\n",
       "      }if (force === true) {\n",
       "        display_loaded();\n",
       "      }} else if (Date.now() < root._bokeh_timeout) {\n",
       "      setTimeout(run_inline_js, 100);\n",
       "    } else if (!root._bokeh_failed_load) {\n",
       "      console.log(\"Bokeh: BokehJS failed to load within specified timeout.\");\n",
       "      root._bokeh_failed_load = true;\n",
       "    } else if (force !== true) {\n",
       "      var cell = $(document.getElementById(\"1001\")).parents('.cell').data().cell;\n",
       "      cell.output_area.append_execute_result(NB_LOAD_WARNING)\n",
       "    }\n",
       "\n",
       "  }\n",
       "\n",
       "  if (root._bokeh_is_loading === 0) {\n",
       "    console.debug(\"Bokeh: BokehJS loaded, going straight to plotting\");\n",
       "    run_inline_js();\n",
       "  } else {\n",
       "    load_libs(css_urls, js_urls, function() {\n",
       "      console.debug(\"Bokeh: BokehJS plotting callback run at\", now());\n",
       "      run_inline_js();\n",
       "    });\n",
       "  }\n",
       "}(window));"
      ],
      "application/vnd.bokehjs_load.v0+json": "\n(function(root) {\n  function now() {\n    return new Date();\n  }\n\n  var force = true;\n\n  if (typeof root._bokeh_onload_callbacks === \"undefined\" || force === true) {\n    root._bokeh_onload_callbacks = [];\n    root._bokeh_is_loading = undefined;\n  }\n\n  \n\n  \n  if (typeof (root._bokeh_timeout) === \"undefined\" || force === true) {\n    root._bokeh_timeout = Date.now() + 5000;\n    root._bokeh_failed_load = false;\n  }\n\n  var NB_LOAD_WARNING = {'data': {'text/html':\n     \"<div style='background-color: #fdd'>\\n\"+\n     \"<p>\\n\"+\n     \"BokehJS does not appear to have successfully loaded. If loading BokehJS from CDN, this \\n\"+\n     \"may be due to a slow or bad network connection. Possible fixes:\\n\"+\n     \"</p>\\n\"+\n     \"<ul>\\n\"+\n     \"<li>re-rerun `output_notebook()` to attempt to load from CDN again, or</li>\\n\"+\n     \"<li>use INLINE resources instead, as so:</li>\\n\"+\n     \"</ul>\\n\"+\n     \"<code>\\n\"+\n     \"from bokeh.resources import INLINE\\n\"+\n     \"output_notebook(resources=INLINE)\\n\"+\n     \"</code>\\n\"+\n     \"</div>\"}};\n\n  function display_loaded() {\n    var el = document.getElementById(\"1001\");\n    if (el != null) {\n      el.textContent = \"BokehJS is loading...\";\n    }\n    if (root.Bokeh !== undefined) {\n      if (el != null) {\n        el.textContent = \"BokehJS \" + root.Bokeh.version + \" successfully loaded.\";\n      }\n    } else if (Date.now() < root._bokeh_timeout) {\n      setTimeout(display_loaded, 100)\n    }\n  }\n\n\n  function run_callbacks() {\n    try {\n      root._bokeh_onload_callbacks.forEach(function(callback) {\n        if (callback != null)\n          callback();\n      });\n    } finally {\n      delete root._bokeh_onload_callbacks\n    }\n    console.debug(\"Bokeh: all callbacks have finished\");\n  }\n\n  function load_libs(css_urls, js_urls, callback) {\n    if (css_urls == null) css_urls = [];\n    if (js_urls == null) js_urls = [];\n\n    root._bokeh_onload_callbacks.push(callback);\n    if (root._bokeh_is_loading > 0) {\n      console.debug(\"Bokeh: BokehJS is being loaded, scheduling callback at\", now());\n      return null;\n    }\n    if (js_urls == null || js_urls.length === 0) {\n      run_callbacks();\n      return null;\n    }\n    console.debug(\"Bokeh: BokehJS not loaded, scheduling load and callback at\", now());\n    root._bokeh_is_loading = css_urls.length + js_urls.length;\n\n    function on_load() {\n      root._bokeh_is_loading--;\n      if (root._bokeh_is_loading === 0) {\n        console.debug(\"Bokeh: all BokehJS libraries/stylesheets loaded\");\n        run_callbacks()\n      }\n    }\n\n    function on_error() {\n      console.error(\"failed to load \" + url);\n    }\n\n    for (var i = 0; i < css_urls.length; i++) {\n      var url = css_urls[i];\n      const element = document.createElement(\"link\");\n      element.onload = on_load;\n      element.onerror = on_error;\n      element.rel = \"stylesheet\";\n      element.type = \"text/css\";\n      element.href = url;\n      console.debug(\"Bokeh: injecting link tag for BokehJS stylesheet: \", url);\n      document.body.appendChild(element);\n    }\n\n    for (var i = 0; i < js_urls.length; i++) {\n      var url = js_urls[i];\n      var element = document.createElement('script');\n      element.onload = on_load;\n      element.onerror = on_error;\n      element.async = false;\n      element.src = url;\n      console.debug(\"Bokeh: injecting script tag for BokehJS library: \", url);\n      document.head.appendChild(element);\n    }\n  };var element = document.getElementById(\"1001\");\n  if (element == null) {\n    console.error(\"Bokeh: ERROR: autoload.js configured with elementid '1001' but no matching script tag was found. \")\n    return false;\n  }\n\n  function inject_raw_css(css) {\n    const element = document.createElement(\"style\");\n    element.appendChild(document.createTextNode(css));\n    document.body.appendChild(element);\n  }\n\n  var js_urls = [\"https://cdn.pydata.org/bokeh/release/bokeh-1.3.4.min.js\", \"https://cdn.pydata.org/bokeh/release/bokeh-widgets-1.3.4.min.js\", \"https://cdn.pydata.org/bokeh/release/bokeh-tables-1.3.4.min.js\", \"https://cdn.pydata.org/bokeh/release/bokeh-gl-1.3.4.min.js\"];\n  var css_urls = [];\n\n  var inline_js = [\n    function(Bokeh) {\n      Bokeh.set_log_level(\"info\");\n    },\n    \n    function(Bokeh) {\n      \n    },\n    function(Bokeh) {} // ensure no trailing comma for IE\n  ];\n\n  function run_inline_js() {\n    \n    if ((root.Bokeh !== undefined) || (force === true)) {\n      for (var i = 0; i < inline_js.length; i++) {\n        inline_js[i].call(root, root.Bokeh);\n      }if (force === true) {\n        display_loaded();\n      }} else if (Date.now() < root._bokeh_timeout) {\n      setTimeout(run_inline_js, 100);\n    } else if (!root._bokeh_failed_load) {\n      console.log(\"Bokeh: BokehJS failed to load within specified timeout.\");\n      root._bokeh_failed_load = true;\n    } else if (force !== true) {\n      var cell = $(document.getElementById(\"1001\")).parents('.cell').data().cell;\n      cell.output_area.append_execute_result(NB_LOAD_WARNING)\n    }\n\n  }\n\n  if (root._bokeh_is_loading === 0) {\n    console.debug(\"Bokeh: BokehJS loaded, going straight to plotting\");\n    run_inline_js();\n  } else {\n    load_libs(css_urls, js_urls, function() {\n      console.debug(\"Bokeh: BokehJS plotting callback run at\", now());\n      run_inline_js();\n    });\n  }\n}(window));"
     },
     "metadata": {},
     "output_type": "display_data"
    }
   ],
   "source": [
    "import pandas as pd\n",
    "import seaborn as sns\n",
    "import re\n",
    "from random import shuffle\n",
    "from bokeh.plotting import figure, show, output_file\n",
    "from bokeh.io import output_notebook\n",
    "from bokeh.transform import jitter\n",
    "from bokeh.transform import factor_cmap\n",
    "from numpy import triu\n",
    "\n",
    "output_notebook()\n",
    "df = pd.read_csv('hogwartsExperiment.csv')"
   ]
  },
  {
   "cell_type": "code",
   "execution_count": 2,
   "metadata": {},
   "outputs": [
    {
     "data": {
      "text/plain": [
       "(200, 4)"
      ]
     },
     "metadata": {},
     "output_type": "display_data"
    },
    {
     "data": {
      "text/html": [
       "<div>\n",
       "<style scoped>\n",
       "    .dataframe tbody tr th:only-of-type {\n",
       "        vertical-align: middle;\n",
       "    }\n",
       "\n",
       "    .dataframe tbody tr th {\n",
       "        vertical-align: top;\n",
       "    }\n",
       "\n",
       "    .dataframe thead th {\n",
       "        text-align: right;\n",
       "    }\n",
       "</style>\n",
       "<table border=\"1\" class=\"dataframe\">\n",
       "  <thead>\n",
       "    <tr style=\"text-align: right;\">\n",
       "      <th></th>\n",
       "      <th>studentID</th>\n",
       "      <th>time</th>\n",
       "      <th>spellsCast</th>\n",
       "      <th>potionStatus</th>\n",
       "    </tr>\n",
       "  </thead>\n",
       "  <tbody>\n",
       "    <tr>\n",
       "      <td>0</td>\n",
       "      <td>1</td>\n",
       "      <td>61.7</td>\n",
       "      <td>11.0</td>\n",
       "      <td>With Potion</td>\n",
       "    </tr>\n",
       "    <tr>\n",
       "      <td>1</td>\n",
       "      <td>2</td>\n",
       "      <td>55.7</td>\n",
       "      <td>9.0</td>\n",
       "      <td>With Potion</td>\n",
       "    </tr>\n",
       "    <tr>\n",
       "      <td>2</td>\n",
       "      <td>3</td>\n",
       "      <td>60.4</td>\n",
       "      <td>14.0</td>\n",
       "      <td>With Potion</td>\n",
       "    </tr>\n",
       "    <tr>\n",
       "      <td>3</td>\n",
       "      <td>4</td>\n",
       "      <td>62.8</td>\n",
       "      <td>14.0</td>\n",
       "      <td>With Potion</td>\n",
       "    </tr>\n",
       "    <tr>\n",
       "      <td>4</td>\n",
       "      <td>5</td>\n",
       "      <td>59.9</td>\n",
       "      <td>16.0</td>\n",
       "      <td>With Potion</td>\n",
       "    </tr>\n",
       "  </tbody>\n",
       "</table>\n",
       "</div>"
      ],
      "text/plain": [
       "   studentID  time  spellsCast potionStatus\n",
       "0          1  61.7        11.0  With Potion\n",
       "1          2  55.7         9.0  With Potion\n",
       "2          3  60.4        14.0  With Potion\n",
       "3          4  62.8        14.0  With Potion\n",
       "4          5  59.9        16.0  With Potion"
      ]
     },
     "metadata": {},
     "output_type": "display_data"
    },
    {
     "data": {
      "text/html": [
       "<div>\n",
       "<style scoped>\n",
       "    .dataframe tbody tr th:only-of-type {\n",
       "        vertical-align: middle;\n",
       "    }\n",
       "\n",
       "    .dataframe tbody tr th {\n",
       "        vertical-align: top;\n",
       "    }\n",
       "\n",
       "    .dataframe thead th {\n",
       "        text-align: right;\n",
       "    }\n",
       "</style>\n",
       "<table border=\"1\" class=\"dataframe\">\n",
       "  <thead>\n",
       "    <tr style=\"text-align: right;\">\n",
       "      <th></th>\n",
       "      <th>studentID</th>\n",
       "      <th>time</th>\n",
       "      <th>spellsCast</th>\n",
       "      <th>potionStatus</th>\n",
       "    </tr>\n",
       "  </thead>\n",
       "  <tbody>\n",
       "    <tr>\n",
       "      <td>195</td>\n",
       "      <td>96</td>\n",
       "      <td>57.2</td>\n",
       "      <td>12.0</td>\n",
       "      <td>Without Potion</td>\n",
       "    </tr>\n",
       "    <tr>\n",
       "      <td>196</td>\n",
       "      <td>97</td>\n",
       "      <td>55.9</td>\n",
       "      <td>9.0</td>\n",
       "      <td>Without Potion</td>\n",
       "    </tr>\n",
       "    <tr>\n",
       "      <td>197</td>\n",
       "      <td>98</td>\n",
       "      <td>56.6</td>\n",
       "      <td>13.0</td>\n",
       "      <td>Without Potion</td>\n",
       "    </tr>\n",
       "    <tr>\n",
       "      <td>198</td>\n",
       "      <td>99</td>\n",
       "      <td>57.7</td>\n",
       "      <td>13.0</td>\n",
       "      <td>Without Potion</td>\n",
       "    </tr>\n",
       "    <tr>\n",
       "      <td>199</td>\n",
       "      <td>100</td>\n",
       "      <td>62.8</td>\n",
       "      <td>9.0</td>\n",
       "      <td>Without Potion</td>\n",
       "    </tr>\n",
       "  </tbody>\n",
       "</table>\n",
       "</div>"
      ],
      "text/plain": [
       "     studentID  time  spellsCast    potionStatus\n",
       "195         96  57.2        12.0  Without Potion\n",
       "196         97  55.9         9.0  Without Potion\n",
       "197         98  56.6        13.0  Without Potion\n",
       "198         99  57.7        13.0  Without Potion\n",
       "199        100  62.8         9.0  Without Potion"
      ]
     },
     "metadata": {},
     "output_type": "display_data"
    }
   ],
   "source": [
    "display(df.shape, df.head(), df.tail())"
   ]
  },
  {
   "cell_type": "markdown",
   "metadata": {},
   "source": [
    "Seems a bit boring to have student IDs without a name.  Let's fix that."
   ]
  },
  {
   "cell_type": "code",
   "execution_count": 3,
   "metadata": {},
   "outputs": [],
   "source": [
    "# https://harrypotter.neoseeker.com/wiki/List_of_students_that_go_to_Hogwarts\n",
    "with open('names1.txt') as name_file:\n",
    "    names1 = [name.strip('\\n') for name in name_file.readlines()]\n",
    "\n",
    "# https://www.wizardingworld.com/writing-by-jk-rowling/the-original-forty\n",
    "with open('names2.txt') as name_file:\n",
    "    names2 = name_file.readlines()#[name.strip('\\n') for name in name_file.readlines()]"
   ]
  },
  {
   "cell_type": "code",
   "execution_count": 4,
   "metadata": {},
   "outputs": [
    {
     "data": {
      "text/plain": [
       "(['Daphne Greengrass',\n",
       "  'Theodore Nott',\n",
       "  'Astoria Greengrass',\n",
       "  'Malcolm Baddock',\n",
       "  'Graham Pritchard'],)"
      ]
     },
     "execution_count": 4,
     "metadata": {},
     "output_type": "execute_result"
    }
   ],
   "source": [
    "names1[-5:], "
   ]
  },
  {
   "cell_type": "markdown",
   "metadata": {},
   "source": [
    "These look fine."
   ]
  },
  {
   "cell_type": "code",
   "execution_count": 5,
   "metadata": {},
   "outputs": [
    {
     "data": {
      "text/plain": [
       "['[Quirrel, crossed out, subsequently used for teacher]\\n',\n",
       " 'Rivers, Oliver\\n',\n",
       " 'Roper, Sophie\\n',\n",
       " '[Sidebottom, Neville crossed out]\\n',\n",
       " 'Smith, Sally [Georgina crossed out]\\n',\n",
       " '[Spungen, changed to Spinks, Draco, all crossed out, re-inserted above]\\n',\n",
       " 'Thomas, Gary\\n',\n",
       " 'Turpin, Lisa\\n',\n",
       " 'Weasley, Ronald\\n',\n",
       " 'Zabini, Blaise']"
      ]
     },
     "execution_count": 5,
     "metadata": {},
     "output_type": "execute_result"
    }
   ],
   "source": [
    "names2[-10:]"
   ]
  },
  {
   "cell_type": "markdown",
   "metadata": {},
   "source": [
    "These need to be cleared up of the names with notes.  We should also reverse the order of the first list to match this."
   ]
  },
  {
   "cell_type": "code",
   "execution_count": 6,
   "metadata": {},
   "outputs": [
    {
     "data": {
      "text/plain": [
       "['Potter, Harry',\n",
       " 'Weasley, Ron',\n",
       " 'Granger, Hermione',\n",
       " 'Creevey, Colin',\n",
       " 'Finnigan, Seamus']"
      ]
     },
     "execution_count": 6,
     "metadata": {},
     "output_type": "execute_result"
    }
   ],
   "source": [
    "names1fixed = [ ', '.join(name.split()[::-1]) for name in names1 ]\n",
    "names1fixed[:5]"
   ]
  },
  {
   "cell_type": "markdown",
   "metadata": {},
   "source": [
    "Let's examine the names with >2 words in case there are any students with three names."
   ]
  },
  {
   "cell_type": "code",
   "execution_count": 7,
   "metadata": {},
   "outputs": [
    {
     "data": {
      "text/plain": [
       "['Granger, Hermione – inserted in pencil, see crossed-out entry, below',\n",
       " 'Longbottom, Neville – inserted in ink, see crossed out entry, below',\n",
       " 'MacDougal, Isobel [original name Katrina crossed out]',\n",
       " 'Malfoy, Draco – inserted in ink, see crossed-out entry, below',\n",
       " 'Moon, Lily [first intimation of Luna Lovegood, this name was never used, but gave me an idea for a fey, dreamy girl. She was named before I decided on Harry’s mother’s name.]',\n",
       " '[Puckle, Hermione – crossed out, name changed and reinserted, above]',\n",
       " '[Puff, Neville – crossed out, name changed and reinserted, above]',\n",
       " '[Quirrel, crossed out, subsequently used for teacher]',\n",
       " '[Sidebottom, Neville crossed out]',\n",
       " 'Smith, Sally [Georgina crossed out]',\n",
       " '[Spungen, changed to Spinks, Draco, all crossed out, re-inserted above]']"
      ]
     },
     "execution_count": 7,
     "metadata": {},
     "output_type": "execute_result"
    }
   ],
   "source": [
    "[' '.join(name.split()) for name in names2 if len(name.split())>2]"
   ]
  },
  {
   "cell_type": "markdown",
   "metadata": {},
   "source": [
    "Taking out everything with more then two words doesn't lose us any names we want to keep."
   ]
  },
  {
   "cell_type": "code",
   "execution_count": 8,
   "metadata": {},
   "outputs": [],
   "source": [
    "word_cleaner = lambda x: ', '.join([ word.strip('\\n ,') for word in x ])\n",
    "name_fix = lambda x: word_cleaner(re.split(' ', x))\n",
    "names2fixed = [name_fix(name.strip('\\n')) for name in names2 if len(name.split())<3]"
   ]
  },
  {
   "cell_type": "code",
   "execution_count": 9,
   "metadata": {},
   "outputs": [
    {
     "data": {
      "text/plain": [
       "['Abbott, Hannah',\n",
       " 'Bones, Susan',\n",
       " 'Boot, Trevor',\n",
       " 'Brocklehurst, Mandy',\n",
       " 'Brown, Lavender',\n",
       " 'Bulstrode, Millicent',\n",
       " 'Corner, Michael',\n",
       " 'Cornfoot, Stephen',\n",
       " 'Crabbe, Vincent',\n",
       " 'Davis, Tracey']"
      ]
     },
     "execution_count": 9,
     "metadata": {},
     "output_type": "execute_result"
    }
   ],
   "source": [
    "names2fixed[:10]"
   ]
  },
  {
   "cell_type": "code",
   "execution_count": 10,
   "metadata": {},
   "outputs": [
    {
     "data": {
      "text/plain": [
       "(82, 100)"
      ]
     },
     "execution_count": 10,
     "metadata": {},
     "output_type": "execute_result"
    }
   ],
   "source": [
    "names_combined = list(set(names1fixed)|set(names2fixed))\n",
    "len(names_combined), len(df['studentID'].unique())"
   ]
  },
  {
   "cell_type": "code",
   "execution_count": 11,
   "metadata": {},
   "outputs": [],
   "source": [
    "names_combined.sort()"
   ]
  },
  {
   "cell_type": "code",
   "execution_count": 12,
   "metadata": {},
   "outputs": [
    {
     "name": "stdout",
     "output_type": "stream",
     "text": [
      "['Abbott, Hannah', 'Abercrombie, Euan', 'Ackerley, Stewart', 'Baddock, Malcolm', 'Bell, Katie', 'Bones, Susan', 'Boot, Terry', 'Boot, Trevor', 'Branstone, Eleanor', 'Brocklehurst, Mandy', 'Brown, Lavender', 'Bulstrode, Millicent', 'Carmichael, Eddie', 'Cauldwell, Owen', 'Chang, Cho', 'Clearwater, Penelope', 'Coote, Ritchie', 'Corner, Michael', 'Cornfoot, Stephen', 'Crabbe, Vincent', 'Creevey, Colin', 'Creevey, Dennis', 'Davies, Roger', 'Davis, Tracey', 'Edgecombe, Marietta', 'Entwhistle, Kevin', 'Finch-Fletchley, Justin', 'Finnigan, Seamus', 'Frobisher, Victoria', 'Goldstein, Anthony', 'Goyle, Gregory', 'Granger, Hermione', 'Greengrass, Astoria', 'Greengrass, Daphne', 'Greengrass, Queenie', 'Higgs, Terence', 'Hooper, Geoffrey', 'Hopkins, Wayne', 'Jones, Megan', 'Kirke, Andrew', 'Li, Su', 'Li, Sue', 'Longbottom, Neville', 'Lovegood, Luna', 'MacDonald, Mary', 'Macmillan, Ernest', 'Macmillan, Ernie', 'Madley, Laura', 'Malfoy, Draco', 'Malone, Roger', 'McDonald, Natalie', 'McDougal, Morag', 'McLaggen, Cormac', 'Midgen, Eloise', 'Moon, Lilian', 'Nott, Theodore', 'Parkinson, Pansy', 'Patel, Madhari', 'Patel, Mati', 'Patil, Padma', 'Patil, Parvati', 'Peakes, Jimmy', 'Perks, Sally-Anne', 'Potter, Harry', 'Pritchard, Graham', 'Pucey, Adrian', 'Quirke, Orla', 'Rivers, Oliver', 'Robins, Demelza', 'Roper, Sophie', 'Sloper, Jack', 'Smith, Zacharias', 'Thomas, Dean', 'Thomas, Gary', 'Turpin, Lisa', 'Vane, Romilda', 'Weasley, Ginny', 'Weasley, Ron', 'Weasley, Ronald', 'Whitby, Kevin', 'Zabini, Blaise', 'Zeller, Rose']\n"
     ]
    }
   ],
   "source": [
    "print(names_combined)"
   ]
  },
  {
   "cell_type": "markdown",
   "metadata": {},
   "source": [
    "There are a couple duplicates that splipped by due to typos.  Easiest to just remove them by hand."
   ]
  },
  {
   "cell_type": "code",
   "execution_count": 13,
   "metadata": {},
   "outputs": [],
   "source": [
    "dupes_gone = names_combined[:]\n",
    "dupes =  ['Li, Su', 'Weasley, Ron', 'Macmillan, Ernie', 'Boot, Terry']\n",
    "for name in dupes:\n",
    "    dupes_gone.remove(name)\n"
   ]
  },
  {
   "cell_type": "markdown",
   "metadata": {},
   "source": [
    "Sadly we are short by a few and we dont have any more names."
   ]
  },
  {
   "cell_type": "code",
   "execution_count": 14,
   "metadata": {},
   "outputs": [],
   "source": [
    "len(dupes_gone)\n",
    "\n",
    "padded=dupes_gone + ['Unknown']*22\n",
    "shuffle(padded)"
   ]
  },
  {
   "cell_type": "code",
   "execution_count": 15,
   "metadata": {},
   "outputs": [
    {
     "data": {
      "text/html": [
       "<div>\n",
       "<style scoped>\n",
       "    .dataframe tbody tr th:only-of-type {\n",
       "        vertical-align: middle;\n",
       "    }\n",
       "\n",
       "    .dataframe tbody tr th {\n",
       "        vertical-align: top;\n",
       "    }\n",
       "\n",
       "    .dataframe thead th {\n",
       "        text-align: right;\n",
       "    }\n",
       "</style>\n",
       "<table border=\"1\" class=\"dataframe\">\n",
       "  <thead>\n",
       "    <tr style=\"text-align: right;\">\n",
       "      <th></th>\n",
       "      <th>ID</th>\n",
       "      <th>name</th>\n",
       "      <th>time</th>\n",
       "      <th>cast</th>\n",
       "      <th>potion</th>\n",
       "      <th>SPM</th>\n",
       "    </tr>\n",
       "  </thead>\n",
       "  <tbody>\n",
       "    <tr>\n",
       "      <td>0</td>\n",
       "      <td>1</td>\n",
       "      <td>Unknown</td>\n",
       "      <td>61.7</td>\n",
       "      <td>11.0</td>\n",
       "      <td>Potion</td>\n",
       "      <td>10.696921</td>\n",
       "    </tr>\n",
       "    <tr>\n",
       "      <td>1</td>\n",
       "      <td>2</td>\n",
       "      <td>Finch-Fletchley, Justin</td>\n",
       "      <td>55.7</td>\n",
       "      <td>9.0</td>\n",
       "      <td>Potion</td>\n",
       "      <td>9.694794</td>\n",
       "    </tr>\n",
       "    <tr>\n",
       "      <td>2</td>\n",
       "      <td>3</td>\n",
       "      <td>Unknown</td>\n",
       "      <td>60.4</td>\n",
       "      <td>14.0</td>\n",
       "      <td>Potion</td>\n",
       "      <td>13.907285</td>\n",
       "    </tr>\n",
       "    <tr>\n",
       "      <td>3</td>\n",
       "      <td>4</td>\n",
       "      <td>Baddock, Malcolm</td>\n",
       "      <td>62.8</td>\n",
       "      <td>14.0</td>\n",
       "      <td>Potion</td>\n",
       "      <td>13.375796</td>\n",
       "    </tr>\n",
       "    <tr>\n",
       "      <td>4</td>\n",
       "      <td>5</td>\n",
       "      <td>Malfoy, Draco</td>\n",
       "      <td>59.9</td>\n",
       "      <td>16.0</td>\n",
       "      <td>Potion</td>\n",
       "      <td>16.026711</td>\n",
       "    </tr>\n",
       "  </tbody>\n",
       "</table>\n",
       "</div>"
      ],
      "text/plain": [
       "   ID                     name  time  cast  potion        SPM\n",
       "0   1                  Unknown  61.7  11.0  Potion  10.696921\n",
       "1   2  Finch-Fletchley, Justin  55.7   9.0  Potion   9.694794\n",
       "2   3                  Unknown  60.4  14.0  Potion  13.907285\n",
       "3   4         Baddock, Malcolm  62.8  14.0  Potion  13.375796\n",
       "4   5            Malfoy, Draco  59.9  16.0  Potion  16.026711"
      ]
     },
     "execution_count": 15,
     "metadata": {},
     "output_type": "execute_result"
    }
   ],
   "source": [
    "df['student'] = padded*2\n",
    "df = df[['studentID', 'student', 'time', 'spellsCast', 'potionStatus']]\n",
    "df['potionStatus'] = df['potionStatus'].map({'With Potion':'Potion', 'Without Potion': 'No Potion'})\n",
    "df.columns=['ID', 'name', 'time', 'cast', 'potion']\n",
    "df['SPM']=df['cast']/df['time']*60\n",
    "df.head()"
   ]
  },
  {
   "cell_type": "code",
   "execution_count": 16,
   "metadata": {},
   "outputs": [
    {
     "data": {
      "text/html": [
       "\n",
       "\n",
       "\n",
       "\n",
       "\n",
       "\n",
       "  <div class=\"bk-root\" id=\"eedf0608-c04c-4191-ab2d-117826b63ac1\" data-root-id=\"1002\"></div>\n"
      ]
     },
     "metadata": {},
     "output_type": "display_data"
    },
    {
     "data": {
      "application/javascript": [
       "(function(root) {\n",
       "  function embed_document(root) {\n",
       "    \n",
       "  var docs_json = {\"a345ff08-3501-454a-8212-d9f923403dc4\":{\"roots\":{\"references\":[{\"attributes\":{\"below\":[{\"id\":\"1013\",\"type\":\"CategoricalAxis\"}],\"center\":[{\"id\":\"1016\",\"type\":\"Grid\"},{\"id\":\"1021\",\"type\":\"Grid\"}],\"left\":[{\"id\":\"1017\",\"type\":\"LinearAxis\"}],\"renderers\":[{\"id\":\"1031\",\"type\":\"GlyphRenderer\"}],\"title\":{\"id\":\"1003\",\"type\":\"Title\"},\"toolbar\":{\"id\":\"1023\",\"type\":\"Toolbar\"},\"x_range\":{\"id\":\"1005\",\"type\":\"FactorRange\"},\"x_scale\":{\"id\":\"1009\",\"type\":\"CategoricalScale\"},\"y_range\":{\"id\":\"1007\",\"type\":\"DataRange1d\"},\"y_scale\":{\"id\":\"1011\",\"type\":\"LinearScale\"}},\"id\":\"1002\",\"subtype\":\"Figure\",\"type\":\"Plot\"},{\"attributes\":{},\"id\":\"1040\",\"type\":\"UnionRenderers\"},{\"attributes\":{\"range\":{\"id\":\"1005\",\"type\":\"FactorRange\"},\"width\":0.75},\"id\":\"1025\",\"type\":\"Jitter\"},{\"attributes\":{},\"id\":\"1014\",\"type\":\"CategoricalTicker\"},{\"attributes\":{\"callback\":null,\"factors\":[\"No Potion\",\"Potion\"]},\"id\":\"1005\",\"type\":\"FactorRange\"},{\"attributes\":{},\"id\":\"1011\",\"type\":\"LinearScale\"},{\"attributes\":{\"grid_line_color\":null,\"ticker\":{\"id\":\"1014\",\"type\":\"CategoricalTicker\"}},\"id\":\"1016\",\"type\":\"Grid\"},{\"attributes\":{},\"id\":\"1018\",\"type\":\"BasicTicker\"},{\"attributes\":{\"active_drag\":\"auto\",\"active_inspect\":\"auto\",\"active_multi\":null,\"active_scroll\":\"auto\",\"active_tap\":\"auto\",\"tools\":[{\"id\":\"1022\",\"type\":\"HoverTool\"}]},\"id\":\"1023\",\"type\":\"Toolbar\"},{\"attributes\":{\"fill_alpha\":{\"value\":0.1},\"fill_color\":{\"value\":\"#1f77b4\"},\"line_alpha\":{\"value\":0.1},\"line_color\":{\"value\":\"#1f77b4\"},\"size\":{\"units\":\"screen\",\"value\":9},\"x\":{\"field\":\"potion\",\"transform\":{\"id\":\"1025\",\"type\":\"Jitter\"}},\"y\":{\"field\":\"SPM\"}},\"id\":\"1030\",\"type\":\"Circle\"},{\"attributes\":{\"formatter\":{\"id\":\"1036\",\"type\":\"CategoricalTickFormatter\"},\"ticker\":{\"id\":\"1014\",\"type\":\"CategoricalTicker\"}},\"id\":\"1013\",\"type\":\"CategoricalAxis\"},{\"attributes\":{\"formatter\":{\"id\":\"1038\",\"type\":\"BasicTickFormatter\"},\"ticker\":{\"id\":\"1018\",\"type\":\"BasicTicker\"}},\"id\":\"1017\",\"type\":\"LinearAxis\"},{\"attributes\":{\"callback\":null,\"tooltips\":[[\"Student\",\"@name\"],[\"Potion\",\"@potion\"],[\"Total Spells\",\"@cast\"],[\"Spells/Minute\",\"@SPM\"]]},\"id\":\"1022\",\"type\":\"HoverTool\"},{\"attributes\":{\"text\":\"Spells Per Minute\"},\"id\":\"1003\",\"type\":\"Title\"},{\"attributes\":{\"callback\":null},\"id\":\"1007\",\"type\":\"DataRange1d\"},{\"attributes\":{\"fill_alpha\":{\"value\":0.75},\"fill_color\":{\"field\":\"potion\",\"transform\":{\"id\":\"1026\",\"type\":\"CategoricalColorMapper\"}},\"line_alpha\":{\"value\":0.75},\"line_color\":{\"field\":\"potion\"},\"size\":{\"units\":\"screen\",\"value\":9},\"x\":{\"field\":\"potion\",\"transform\":{\"id\":\"1025\",\"type\":\"Jitter\"}},\"y\":{\"field\":\"SPM\"}},\"id\":\"1029\",\"type\":\"Circle\"},{\"attributes\":{\"source\":{\"id\":\"1027\",\"type\":\"ColumnDataSource\"}},\"id\":\"1032\",\"type\":\"CDSView\"},{\"attributes\":{},\"id\":\"1009\",\"type\":\"CategoricalScale\"},{\"attributes\":{},\"id\":\"1036\",\"type\":\"CategoricalTickFormatter\"},{\"attributes\":{\"dimension\":1,\"ticker\":{\"id\":\"1018\",\"type\":\"BasicTicker\"}},\"id\":\"1021\",\"type\":\"Grid\"},{\"attributes\":{},\"id\":\"1039\",\"type\":\"Selection\"},{\"attributes\":{\"data_source\":{\"id\":\"1027\",\"type\":\"ColumnDataSource\"},\"glyph\":{\"id\":\"1029\",\"type\":\"Circle\"},\"hover_glyph\":null,\"muted_glyph\":null,\"nonselection_glyph\":{\"id\":\"1030\",\"type\":\"Circle\"},\"selection_glyph\":null,\"view\":{\"id\":\"1032\",\"type\":\"CDSView\"}},\"id\":\"1031\",\"type\":\"GlyphRenderer\"},{\"attributes\":{},\"id\":\"1038\",\"type\":\"BasicTickFormatter\"},{\"attributes\":{\"factors\":[\"No Potion\",\"Potion\"],\"palette\":[\"red\",\"green\"]},\"id\":\"1026\",\"type\":\"CategoricalColorMapper\"},{\"attributes\":{\"callback\":null,\"data\":{\"ID\":[1,2,3,4,5,6,7,8,9,10,11,12,13,14,15,16,17,18,19,20,21,22,23,24,25,26,27,28,29,30,31,32,33,34,35,36,37,38,39,40,41,42,43,44,45,46,47,48,49,50,51,52,53,54,55,56,57,58,59,60,61,62,63,64,65,66,67,68,69,70,71,72,73,74,75,76,77,78,79,80,81,82,83,84,85,86,87,88,89,90,91,92,93,94,95,96,97,98,99,100,1,2,3,4,5,6,7,8,9,10,11,12,13,14,15,16,17,18,19,20,21,22,23,24,25,26,27,28,29,30,31,32,33,34,35,36,37,38,39,40,41,42,43,44,45,46,47,48,49,50,51,52,53,54,55,56,57,58,59,60,61,62,63,64,65,66,67,68,69,70,71,72,73,74,75,76,77,78,79,80,81,82,83,84,85,86,87,88,89,90,91,92,93,94,95,96,97,98,99,100],\"SPM\":{\"__ndarray__\":\"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\",\"dtype\":\"float64\",\"shape\":[200]},\"cast\":{\"__ndarray__\":\"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\",\"dtype\":\"float64\",\"shape\":[200]},\"index\":[0,1,2,3,4,5,6,7,8,9,10,11,12,13,14,15,16,17,18,19,20,21,22,23,24,25,26,27,28,29,30,31,32,33,34,35,36,37,38,39,40,41,42,43,44,45,46,47,48,49,50,51,52,53,54,55,56,57,58,59,60,61,62,63,64,65,66,67,68,69,70,71,72,73,74,75,76,77,78,79,80,81,82,83,84,85,86,87,88,89,90,91,92,93,94,95,96,97,98,99,100,101,102,103,104,105,106,107,108,109,110,111,112,113,114,115,116,117,118,119,120,121,122,123,124,125,126,127,128,129,130,131,132,133,134,135,136,137,138,139,140,141,142,143,144,145,146,147,148,149,150,151,152,153,154,155,156,157,158,159,160,161,162,163,164,165,166,167,168,169,170,171,172,173,174,175,176,177,178,179,180,181,182,183,184,185,186,187,188,189,190,191,192,193,194,195,196,197,198,199],\"name\":[\"Unknown\",\"Finch-Fletchley, Justin\",\"Unknown\",\"Baddock, Malcolm\",\"Malfoy, Draco\",\"Greengrass, Daphne\",\"McLaggen, Cormac\",\"Unknown\",\"Rivers, Oliver\",\"Frobisher, Victoria\",\"Patel, Madhari\",\"Bell, Katie\",\"Cornfoot, Stephen\",\"Weasley, Ginny\",\"Abercrombie, Euan\",\"Corner, Michael\",\"Unknown\",\"Sloper, Jack\",\"Macmillan, Ernest\",\"Weasley, Ronald\",\"Creevey, Colin\",\"Pritchard, Graham\",\"Unknown\",\"Brocklehurst, Mandy\",\"Chang, Cho\",\"McDonald, Natalie\",\"Whitby, Kevin\",\"Ackerley, Stewart\",\"Unknown\",\"Robins, Demelza\",\"Midgen, Eloise\",\"Entwhistle, Kevin\",\"Unknown\",\"Bones, Susan\",\"Abbott, Hannah\",\"Nott, Theodore\",\"McDougal, Morag\",\"Unknown\",\"Unknown\",\"Unknown\",\"Vane, Romilda\",\"Turpin, Lisa\",\"Brown, Lavender\",\"Greengrass, Queenie\",\"Finnigan, Seamus\",\"Unknown\",\"Unknown\",\"Davies, Roger\",\"Crabbe, Vincent\",\"Madley, Laura\",\"Unknown\",\"Smith, Zacharias\",\"Unknown\",\"Edgecombe, Marietta\",\"Unknown\",\"Carmichael, Eddie\",\"Higgs, Terence\",\"Patil, Parvati\",\"Malone, Roger\",\"Parkinson, Pansy\",\"Thomas, Gary\",\"Cauldwell, Owen\",\"Creevey, Dennis\",\"Potter, Harry\",\"Hooper, Geoffrey\",\"Unknown\",\"Peakes, Jimmy\",\"Pucey, Adrian\",\"Li, Sue\",\"Hopkins, Wayne\",\"Patel, Mati\",\"Unknown\",\"Zeller, Rose\",\"Unknown\",\"MacDonald, Mary\",\"Lovegood, Luna\",\"Unknown\",\"Bulstrode, Millicent\",\"Moon, Lilian\",\"Quirke, Orla\",\"Unknown\",\"Greengrass, Astoria\",\"Kirke, Andrew\",\"Clearwater, Penelope\",\"Roper, Sophie\",\"Unknown\",\"Goyle, Gregory\",\"Granger, Hermione\",\"Thomas, Dean\",\"Zabini, Blaise\",\"Boot, Trevor\",\"Perks, Sally-Anne\",\"Branstone, Eleanor\",\"Longbottom, Neville\",\"Jones, Megan\",\"Coote, Ritchie\",\"Goldstein, Anthony\",\"Unknown\",\"Patil, Padma\",\"Davis, Tracey\",\"Unknown\",\"Finch-Fletchley, Justin\",\"Unknown\",\"Baddock, Malcolm\",\"Malfoy, Draco\",\"Greengrass, Daphne\",\"McLaggen, Cormac\",\"Unknown\",\"Rivers, Oliver\",\"Frobisher, Victoria\",\"Patel, Madhari\",\"Bell, Katie\",\"Cornfoot, Stephen\",\"Weasley, Ginny\",\"Abercrombie, Euan\",\"Corner, Michael\",\"Unknown\",\"Sloper, Jack\",\"Macmillan, Ernest\",\"Weasley, Ronald\",\"Creevey, Colin\",\"Pritchard, Graham\",\"Unknown\",\"Brocklehurst, Mandy\",\"Chang, Cho\",\"McDonald, Natalie\",\"Whitby, Kevin\",\"Ackerley, Stewart\",\"Unknown\",\"Robins, Demelza\",\"Midgen, Eloise\",\"Entwhistle, Kevin\",\"Unknown\",\"Bones, Susan\",\"Abbott, Hannah\",\"Nott, Theodore\",\"McDougal, Morag\",\"Unknown\",\"Unknown\",\"Unknown\",\"Vane, Romilda\",\"Turpin, Lisa\",\"Brown, Lavender\",\"Greengrass, Queenie\",\"Finnigan, Seamus\",\"Unknown\",\"Unknown\",\"Davies, Roger\",\"Crabbe, Vincent\",\"Madley, Laura\",\"Unknown\",\"Smith, Zacharias\",\"Unknown\",\"Edgecombe, Marietta\",\"Unknown\",\"Carmichael, Eddie\",\"Higgs, Terence\",\"Patil, Parvati\",\"Malone, Roger\",\"Parkinson, Pansy\",\"Thomas, Gary\",\"Cauldwell, Owen\",\"Creevey, Dennis\",\"Potter, Harry\",\"Hooper, Geoffrey\",\"Unknown\",\"Peakes, Jimmy\",\"Pucey, Adrian\",\"Li, Sue\",\"Hopkins, Wayne\",\"Patel, Mati\",\"Unknown\",\"Zeller, Rose\",\"Unknown\",\"MacDonald, Mary\",\"Lovegood, Luna\",\"Unknown\",\"Bulstrode, Millicent\",\"Moon, Lilian\",\"Quirke, Orla\",\"Unknown\",\"Greengrass, Astoria\",\"Kirke, Andrew\",\"Clearwater, Penelope\",\"Roper, Sophie\",\"Unknown\",\"Goyle, Gregory\",\"Granger, Hermione\",\"Thomas, Dean\",\"Zabini, Blaise\",\"Boot, Trevor\",\"Perks, Sally-Anne\",\"Branstone, Eleanor\",\"Longbottom, Neville\",\"Jones, Megan\",\"Coote, Ritchie\",\"Goldstein, Anthony\",\"Unknown\",\"Patil, Padma\",\"Davis, Tracey\"],\"potion\":[\"Potion\",\"Potion\",\"Potion\",\"Potion\",\"Potion\",\"Potion\",\"Potion\",\"Potion\",\"Potion\",\"Potion\",\"Potion\",\"Potion\",\"Potion\",\"Potion\",\"Potion\",\"Potion\",\"Potion\",\"Potion\",\"Potion\",\"Potion\",\"Potion\",\"Potion\",\"Potion\",\"Potion\",\"Potion\",\"Potion\",\"Potion\",\"Potion\",\"Potion\",\"Potion\",\"Potion\",\"Potion\",\"Potion\",\"Potion\",\"Potion\",\"Potion\",\"Potion\",\"Potion\",\"Potion\",\"Potion\",\"Potion\",\"Potion\",\"Potion\",\"Potion\",\"Potion\",\"Potion\",\"Potion\",\"Potion\",\"Potion\",\"Potion\",\"Potion\",\"Potion\",\"Potion\",\"Potion\",\"Potion\",\"Potion\",\"Potion\",\"Potion\",\"Potion\",\"Potion\",\"Potion\",\"Potion\",\"Potion\",\"Potion\",\"Potion\",\"Potion\",\"Potion\",\"Potion\",\"Potion\",\"Potion\",\"Potion\",\"Potion\",\"Potion\",\"Potion\",\"Potion\",\"Potion\",\"Potion\",\"Potion\",\"Potion\",\"Potion\",\"Potion\",\"Potion\",\"Potion\",\"Potion\",\"Potion\",\"Potion\",\"Potion\",\"Potion\",\"Potion\",\"Potion\",\"Potion\",\"Potion\",\"Potion\",\"Potion\",\"Potion\",\"Potion\",\"Potion\",\"Potion\",\"Potion\",\"Potion\",\"No Potion\",\"No Potion\",\"No Potion\",\"No Potion\",\"No Potion\",\"No Potion\",\"No Potion\",\"No Potion\",\"No Potion\",\"No Potion\",\"No Potion\",\"No Potion\",\"No Potion\",\"No Potion\",\"No Potion\",\"No Potion\",\"No Potion\",\"No Potion\",\"No Potion\",\"No Potion\",\"No Potion\",\"No Potion\",\"No Potion\",\"No Potion\",\"No Potion\",\"No Potion\",\"No Potion\",\"No Potion\",\"No Potion\",\"No Potion\",\"No Potion\",\"No Potion\",\"No Potion\",\"No Potion\",\"No Potion\",\"No Potion\",\"No Potion\",\"No Potion\",\"No Potion\",\"No Potion\",\"No Potion\",\"No Potion\",\"No Potion\",\"No Potion\",\"No Potion\",\"No Potion\",\"No Potion\",\"No Potion\",\"No Potion\",\"No Potion\",\"No Potion\",\"No Potion\",\"No Potion\",\"No Potion\",\"No Potion\",\"No Potion\",\"No Potion\",\"No Potion\",\"No Potion\",\"No Potion\",\"No Potion\",\"No Potion\",\"No Potion\",\"No Potion\",\"No Potion\",\"No Potion\",\"No Potion\",\"No Potion\",\"No Potion\",\"No Potion\",\"No Potion\",\"No Potion\",\"No Potion\",\"No Potion\",\"No Potion\",\"No Potion\",\"No Potion\",\"No Potion\",\"No Potion\",\"No Potion\",\"No Potion\",\"No Potion\",\"No Potion\",\"No Potion\",\"No Potion\",\"No Potion\",\"No Potion\",\"No Potion\",\"No Potion\",\"No Potion\",\"No Potion\",\"No Potion\",\"No Potion\",\"No Potion\",\"No Potion\",\"No Potion\",\"No Potion\",\"No Potion\",\"No Potion\",\"No Potion\"],\"time\":{\"__ndarray__\":\"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\",\"dtype\":\"float64\",\"shape\":[200]}},\"selected\":{\"id\":\"1039\",\"type\":\"Selection\"},\"selection_policy\":{\"id\":\"1040\",\"type\":\"UnionRenderers\"}},\"id\":\"1027\",\"type\":\"ColumnDataSource\"}],\"root_ids\":[\"1002\"]},\"title\":\"Bokeh Application\",\"version\":\"1.3.4\"}};\n",
       "  var render_items = [{\"docid\":\"a345ff08-3501-454a-8212-d9f923403dc4\",\"roots\":{\"1002\":\"eedf0608-c04c-4191-ab2d-117826b63ac1\"}}];\n",
       "  root.Bokeh.embed.embed_items_notebook(docs_json, render_items);\n",
       "\n",
       "  }\n",
       "  if (root.Bokeh !== undefined) {\n",
       "    embed_document(root);\n",
       "  } else {\n",
       "    var attempts = 0;\n",
       "    var timer = setInterval(function(root) {\n",
       "      if (root.Bokeh !== undefined) {\n",
       "        embed_document(root);\n",
       "        clearInterval(timer);\n",
       "      }\n",
       "      attempts++;\n",
       "      if (attempts > 100) {\n",
       "        console.log(\"Bokeh: ERROR: Unable to run BokehJS code because BokehJS library is missing\");\n",
       "        clearInterval(timer);\n",
       "      }\n",
       "    }, 10, root)\n",
       "  }\n",
       "})(window);"
      ],
      "application/vnd.bokehjs_exec.v0+json": ""
     },
     "metadata": {
      "application/vnd.bokehjs_exec.v0+json": {
       "id": "1002"
      }
     },
     "output_type": "display_data"
    }
   ],
   "source": [
    "p = figure(plot_width=600, plot_height=600, title=\"Spells Per Minute\", \n",
    "           tools='hover', x_range=['No Potion', 'Potion'])\n",
    "p.xgrid.grid_line_color = None\n",
    "potion_taken = jitter('potion', 0.75, range=p.x_range)\n",
    "colors = factor_cmap('potion', palette=['red', 'green'], factors=['No Potion', 'Potion'])\n",
    "\n",
    "\n",
    "p.circle(x=potion_taken, y='SPM', size=9, \n",
    "         color='potion', alpha=0.75, source=df, \n",
    "         fill_color=colors)\n",
    "\n",
    "p.hover.tooltips = [ ('Student', '@name'),\n",
    "                   ('Potion', '@potion'),\n",
    "                   ('Total Spells', '@cast'),\n",
    "                   ('Spells/Minute', '@SPM')]\n",
    "\n",
    "output_file('interactive.html')\n",
    "show(p)"
   ]
  },
  {
   "cell_type": "markdown",
   "metadata": {},
   "source": [
    "The most noticable thing seems to be the hollow center of the casters with the potions.  Outcomes are bimodal.  It's possible that a clear trend will show up if we divide by those who increase and decrease."
   ]
  },
  {
   "cell_type": "code",
   "execution_count": null,
   "metadata": {},
   "outputs": [],
   "source": []
  }
 ],
 "metadata": {
  "kernelspec": {
   "display_name": "Python 3",
   "language": "python",
   "name": "python3"
  },
  "language_info": {
   "codemirror_mode": {
    "name": "ipython",
    "version": 3
   },
   "file_extension": ".py",
   "mimetype": "text/x-python",
   "name": "python",
   "nbconvert_exporter": "python",
   "pygments_lexer": "ipython3",
   "version": "3.7.4"
  }
 },
 "nbformat": 4,
 "nbformat_minor": 2
}
