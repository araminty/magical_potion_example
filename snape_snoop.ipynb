{
 "cells": [
  {
   "cell_type": "code",
   "execution_count": 13,
   "metadata": {
    "scrolled": true
   },
   "outputs": [],
   "source": [
    "import pandas as pd\n",
    "from scipy.stats import ttest_rel\n",
    "import numpy as np\n",
    "from sklearn.neighbors import KernelDensity"
   ]
  },
  {
   "cell_type": "code",
   "execution_count": 2,
   "metadata": {},
   "outputs": [],
   "source": [
    "df = pd.read_csv('hogwartsExperiment.csv')"
   ]
  },
  {
   "cell_type": "code",
   "execution_count": 3,
   "metadata": {},
   "outputs": [
    {
     "data": {
      "text/html": [
       "<div>\n",
       "<style scoped>\n",
       "    .dataframe tbody tr th:only-of-type {\n",
       "        vertical-align: middle;\n",
       "    }\n",
       "\n",
       "    .dataframe tbody tr th {\n",
       "        vertical-align: top;\n",
       "    }\n",
       "\n",
       "    .dataframe thead th {\n",
       "        text-align: right;\n",
       "    }\n",
       "</style>\n",
       "<table border=\"1\" class=\"dataframe\">\n",
       "  <thead>\n",
       "    <tr style=\"text-align: right;\">\n",
       "      <th></th>\n",
       "      <th>studentID</th>\n",
       "      <th>time</th>\n",
       "      <th>spellsCast</th>\n",
       "      <th>potionStatus</th>\n",
       "    </tr>\n",
       "  </thead>\n",
       "  <tbody>\n",
       "    <tr>\n",
       "      <td>0</td>\n",
       "      <td>1</td>\n",
       "      <td>61.7</td>\n",
       "      <td>11.0</td>\n",
       "      <td>With Potion</td>\n",
       "    </tr>\n",
       "    <tr>\n",
       "      <td>1</td>\n",
       "      <td>2</td>\n",
       "      <td>55.7</td>\n",
       "      <td>9.0</td>\n",
       "      <td>With Potion</td>\n",
       "    </tr>\n",
       "    <tr>\n",
       "      <td>2</td>\n",
       "      <td>3</td>\n",
       "      <td>60.4</td>\n",
       "      <td>14.0</td>\n",
       "      <td>With Potion</td>\n",
       "    </tr>\n",
       "    <tr>\n",
       "      <td>3</td>\n",
       "      <td>4</td>\n",
       "      <td>62.8</td>\n",
       "      <td>14.0</td>\n",
       "      <td>With Potion</td>\n",
       "    </tr>\n",
       "    <tr>\n",
       "      <td>4</td>\n",
       "      <td>5</td>\n",
       "      <td>59.9</td>\n",
       "      <td>16.0</td>\n",
       "      <td>With Potion</td>\n",
       "    </tr>\n",
       "  </tbody>\n",
       "</table>\n",
       "</div>"
      ],
      "text/plain": [
       "   studentID  time  spellsCast potionStatus\n",
       "0          1  61.7        11.0  With Potion\n",
       "1          2  55.7         9.0  With Potion\n",
       "2          3  60.4        14.0  With Potion\n",
       "3          4  62.8        14.0  With Potion\n",
       "4          5  59.9        16.0  With Potion"
      ]
     },
     "execution_count": 3,
     "metadata": {},
     "output_type": "execute_result"
    }
   ],
   "source": [
    "df.head()"
   ]
  },
  {
   "cell_type": "code",
   "execution_count": 4,
   "metadata": {},
   "outputs": [
    {
     "data": {
      "text/html": [
       "<div>\n",
       "<style scoped>\n",
       "    .dataframe tbody tr th:only-of-type {\n",
       "        vertical-align: middle;\n",
       "    }\n",
       "\n",
       "    .dataframe tbody tr th {\n",
       "        vertical-align: top;\n",
       "    }\n",
       "\n",
       "    .dataframe thead th {\n",
       "        text-align: right;\n",
       "    }\n",
       "</style>\n",
       "<table border=\"1\" class=\"dataframe\">\n",
       "  <thead>\n",
       "    <tr style=\"text-align: right;\">\n",
       "      <th></th>\n",
       "      <th>studentID</th>\n",
       "      <th>time</th>\n",
       "      <th>spellsCast</th>\n",
       "      <th>potionStatus</th>\n",
       "      <th>SPM</th>\n",
       "    </tr>\n",
       "  </thead>\n",
       "  <tbody>\n",
       "    <tr>\n",
       "      <td>0</td>\n",
       "      <td>1</td>\n",
       "      <td>61.7</td>\n",
       "      <td>11.0</td>\n",
       "      <td>True</td>\n",
       "      <td>10.696921</td>\n",
       "    </tr>\n",
       "    <tr>\n",
       "      <td>1</td>\n",
       "      <td>2</td>\n",
       "      <td>55.7</td>\n",
       "      <td>9.0</td>\n",
       "      <td>True</td>\n",
       "      <td>9.694794</td>\n",
       "    </tr>\n",
       "    <tr>\n",
       "      <td>2</td>\n",
       "      <td>3</td>\n",
       "      <td>60.4</td>\n",
       "      <td>14.0</td>\n",
       "      <td>True</td>\n",
       "      <td>13.907285</td>\n",
       "    </tr>\n",
       "    <tr>\n",
       "      <td>3</td>\n",
       "      <td>4</td>\n",
       "      <td>62.8</td>\n",
       "      <td>14.0</td>\n",
       "      <td>True</td>\n",
       "      <td>13.375796</td>\n",
       "    </tr>\n",
       "    <tr>\n",
       "      <td>4</td>\n",
       "      <td>5</td>\n",
       "      <td>59.9</td>\n",
       "      <td>16.0</td>\n",
       "      <td>True</td>\n",
       "      <td>16.026711</td>\n",
       "    </tr>\n",
       "  </tbody>\n",
       "</table>\n",
       "</div>"
      ],
      "text/plain": [
       "   studentID  time  spellsCast  potionStatus        SPM\n",
       "0          1  61.7        11.0          True  10.696921\n",
       "1          2  55.7         9.0          True   9.694794\n",
       "2          3  60.4        14.0          True  13.907285\n",
       "3          4  62.8        14.0          True  13.375796\n",
       "4          5  59.9        16.0          True  16.026711"
      ]
     },
     "execution_count": 4,
     "metadata": {},
     "output_type": "execute_result"
    }
   ],
   "source": [
    "df['potionStatus'] = df['potionStatus'].map({'With Potion':True, 'Without Potion': False})\n",
    "df['SPM'] = df['spellsCast']/df['time'] * 60\n",
    "df.head()"
   ]
  },
  {
   "cell_type": "code",
   "execution_count": 5,
   "metadata": {},
   "outputs": [],
   "source": [
    "before = df[~df['potionStatus']]\n",
    "after = df[df['potionStatus']]"
   ]
  },
  {
   "cell_type": "code",
   "execution_count": 6,
   "metadata": {},
   "outputs": [
    {
     "data": {
      "text/plain": [
       "<matplotlib.axes._subplots.AxesSubplot at 0x7f9e594b7090>"
      ]
     },
     "execution_count": 6,
     "metadata": {},
     "output_type": "execute_result"
    }
   ],
   "source": [
    "import seaborn as sns\n",
    "\n",
    "swarm = sns.swarmplot(data=df, x='potionStatus', y='SPM')\n",
    "swarm.set_xticklabels(['No Potion', 'Potion'])\n",
    "swarm.set_xlabel('Potion Status')\n",
    "swarm.set_ylabel('Spells Per Minute')\n",
    "\n",
    "swarm.set_title('Potion Increases Variation')\n",
    "\n",
    "swarm.get_figure().savefig('swarm.png')\n",
    "swarm"
   ]
  },
  {
   "cell_type": "code",
   "execution_count": 7,
   "metadata": {},
   "outputs": [
    {
     "data": {
      "text/html": [
       "<div>\n",
       "<style scoped>\n",
       "    .dataframe tbody tr th:only-of-type {\n",
       "        vertical-align: middle;\n",
       "    }\n",
       "\n",
       "    .dataframe tbody tr th {\n",
       "        vertical-align: top;\n",
       "    }\n",
       "\n",
       "    .dataframe thead th {\n",
       "        text-align: right;\n",
       "    }\n",
       "</style>\n",
       "<table border=\"1\" class=\"dataframe\">\n",
       "  <thead>\n",
       "    <tr style=\"text-align: right;\">\n",
       "      <th></th>\n",
       "      <th>SPM without</th>\n",
       "      <th>SPM with</th>\n",
       "      <th>Time without</th>\n",
       "      <th>Time with</th>\n",
       "      <th>SPM Difference</th>\n",
       "    </tr>\n",
       "  </thead>\n",
       "  <tbody>\n",
       "    <tr>\n",
       "      <td>0</td>\n",
       "      <td>12.500000</td>\n",
       "      <td>10.696921</td>\n",
       "      <td>57.6</td>\n",
       "      <td>61.7</td>\n",
       "      <td>1.803079</td>\n",
       "    </tr>\n",
       "    <tr>\n",
       "      <td>1</td>\n",
       "      <td>11.501597</td>\n",
       "      <td>9.694794</td>\n",
       "      <td>62.6</td>\n",
       "      <td>55.7</td>\n",
       "      <td>1.806804</td>\n",
       "    </tr>\n",
       "    <tr>\n",
       "      <td>2</td>\n",
       "      <td>12.361331</td>\n",
       "      <td>13.907285</td>\n",
       "      <td>63.1</td>\n",
       "      <td>60.4</td>\n",
       "      <td>-1.545954</td>\n",
       "    </tr>\n",
       "    <tr>\n",
       "      <td>3</td>\n",
       "      <td>10.891089</td>\n",
       "      <td>13.375796</td>\n",
       "      <td>60.6</td>\n",
       "      <td>62.8</td>\n",
       "      <td>-2.484707</td>\n",
       "    </tr>\n",
       "    <tr>\n",
       "      <td>4</td>\n",
       "      <td>15.625000</td>\n",
       "      <td>16.026711</td>\n",
       "      <td>57.6</td>\n",
       "      <td>59.9</td>\n",
       "      <td>-0.401711</td>\n",
       "    </tr>\n",
       "  </tbody>\n",
       "</table>\n",
       "</div>"
      ],
      "text/plain": [
       "   SPM without   SPM with  Time without  Time with  SPM Difference\n",
       "0    12.500000  10.696921          57.6       61.7        1.803079\n",
       "1    11.501597   9.694794          62.6       55.7        1.806804\n",
       "2    12.361331  13.907285          63.1       60.4       -1.545954\n",
       "3    10.891089  13.375796          60.6       62.8       -2.484707\n",
       "4    15.625000  16.026711          57.6       59.9       -0.401711"
      ]
     },
     "execution_count": 7,
     "metadata": {},
     "output_type": "execute_result"
    }
   ],
   "source": [
    "df2 = pd.DataFrame()\n",
    "df2['SPM without']=before['SPM'].reset_index(drop=True)\n",
    "df2['SPM with']=after['SPM'].reset_index(drop=True)\n",
    "df2['Time without']=before['time'].reset_index(drop=True)\n",
    "df2['Time with']=after['time'].reset_index(drop=True)\n",
    "df2['SPM Difference']=df2['SPM without']-df2['SPM with']\n",
    "df2.head()"
   ]
  },
  {
   "cell_type": "code",
   "execution_count": 18,
   "metadata": {},
   "outputs": [
    {
     "data": {
      "text/plain": [
       "Ttest_relResult(statistic=-0.04333415453162572, pvalue=0.9655224476519357)"
      ]
     },
     "execution_count": 18,
     "metadata": {},
     "output_type": "execute_result"
    }
   ],
   "source": [
    "ttest_rel(df2['SPM without'].values, df2['SPM with'].values)"
   ]
  },
  {
   "cell_type": "code",
   "execution_count": 8,
   "metadata": {},
   "outputs": [
    {
     "data": {
      "text/html": [
       "<div>\n",
       "<style scoped>\n",
       "    .dataframe tbody tr th:only-of-type {\n",
       "        vertical-align: middle;\n",
       "    }\n",
       "\n",
       "    .dataframe tbody tr th {\n",
       "        vertical-align: top;\n",
       "    }\n",
       "\n",
       "    .dataframe thead th {\n",
       "        text-align: right;\n",
       "    }\n",
       "</style>\n",
       "<table border=\"1\" class=\"dataframe\">\n",
       "  <thead>\n",
       "    <tr style=\"text-align: right;\">\n",
       "      <th></th>\n",
       "      <th>SPM without</th>\n",
       "      <th>SPM with</th>\n",
       "      <th>Time without</th>\n",
       "      <th>Time with</th>\n",
       "      <th>SPM Difference</th>\n",
       "    </tr>\n",
       "  </thead>\n",
       "  <tbody>\n",
       "    <tr>\n",
       "      <td>SPM without</td>\n",
       "      <td>1.000000</td>\n",
       "      <td>0.053327</td>\n",
       "      <td>-0.518801</td>\n",
       "      <td>-0.095842</td>\n",
       "      <td>0.455535</td>\n",
       "    </tr>\n",
       "    <tr>\n",
       "      <td>SPM with</td>\n",
       "      <td>0.053327</td>\n",
       "      <td>1.000000</td>\n",
       "      <td>-0.050582</td>\n",
       "      <td>-0.301104</td>\n",
       "      <td>-0.864659</td>\n",
       "    </tr>\n",
       "    <tr>\n",
       "      <td>Time without</td>\n",
       "      <td>-0.518801</td>\n",
       "      <td>-0.050582</td>\n",
       "      <td>1.000000</td>\n",
       "      <td>-0.095386</td>\n",
       "      <td>-0.215903</td>\n",
       "    </tr>\n",
       "    <tr>\n",
       "      <td>Time with</td>\n",
       "      <td>-0.095842</td>\n",
       "      <td>-0.301104</td>\n",
       "      <td>-0.095386</td>\n",
       "      <td>1.000000</td>\n",
       "      <td>0.220214</td>\n",
       "    </tr>\n",
       "    <tr>\n",
       "      <td>SPM Difference</td>\n",
       "      <td>0.455535</td>\n",
       "      <td>-0.864659</td>\n",
       "      <td>-0.215903</td>\n",
       "      <td>0.220214</td>\n",
       "      <td>1.000000</td>\n",
       "    </tr>\n",
       "  </tbody>\n",
       "</table>\n",
       "</div>"
      ],
      "text/plain": [
       "                SPM without  SPM with  Time without  Time with  SPM Difference\n",
       "SPM without        1.000000  0.053327     -0.518801  -0.095842        0.455535\n",
       "SPM with           0.053327  1.000000     -0.050582  -0.301104       -0.864659\n",
       "Time without      -0.518801 -0.050582      1.000000  -0.095386       -0.215903\n",
       "Time with         -0.095842 -0.301104     -0.095386   1.000000        0.220214\n",
       "SPM Difference     0.455535 -0.864659     -0.215903   0.220214        1.000000"
      ]
     },
     "execution_count": 8,
     "metadata": {},
     "output_type": "execute_result"
    }
   ],
   "source": [
    "df2.corr()"
   ]
  },
  {
   "cell_type": "code",
   "execution_count": 9,
   "metadata": {},
   "outputs": [
    {
     "data": {
      "text/plain": [
       "<matplotlib.axes._subplots.AxesSubplot at 0x7f9e586d1d50>"
      ]
     },
     "execution_count": 9,
     "metadata": {},
     "output_type": "execute_result"
    },
    {
     "data": {
      "image/png": "[encoded data removed]",
      "text/plain": [
       "<Figure size 432x288 with 2 Axes>"
      ]
     },
     "metadata": {
      "needs_background": "light"
     },
     "output_type": "display_data"
    }
   ],
   "source": [
    "heat = sns.heatmap(df2.corr(),\n",
    "                    vmin=-1,\n",
    "                    vmax=1,\n",
    "                    cmap='coolwarm',\n",
    "                    mask=np.tril(df2.corr()))\n",
    "\n",
    "heat.set_ylim(0, 5)\n",
    "heat.set_xlim(0, 5)\n",
    "import matplotlib.pyplot as plt\n",
    "heat.set_title(\"Performance with and without uncorrelated\")\n",
    "heat.get_figure().savefig('correlations.png')\n",
    "heat"
   ]
  },
  {
   "cell_type": "code",
   "execution_count": 10,
   "metadata": {},
   "outputs": [],
   "source": [
    "X = df2[['SPM without']]\n",
    "X2 = df2[['SPM with']]\n",
    "noPotionProbs = KernelDensity(kernel='gaussian', bandwidth=0.75).fit(X)\n",
    "PotionProbs = KernelDensity(kernel='gaussian', bandwidth=0.75).fit(X2)"
   ]
  },
  {
   "cell_type": "code",
   "execution_count": 11,
   "metadata": {},
   "outputs": [
    {
     "data": {
      "image/png": "[encoded data removed]",
      "text/plain": [
       "<Figure size 432x288 with 1 Axes>"
      ]
     },
     "metadata": {
      "needs_background": "light"
     },
     "output_type": "display_data"
    }
   ],
   "source": [
    "domain = np.linspace(X2.min(), X2.max(), num=500)\n",
    "\n",
    "\n",
    "fig, ax = plt.subplots()\n",
    "\n",
    "ax.hist(X.T, density=True, alpha=0.5, label='Performance No Potion');\n",
    "# ax.hist(X2.T, density=True, alpha=0.5);\n",
    "ax.scatter(domain, np.exp(noPotionProbs.score_samples(domain)), color='red', label='No Potion')\n",
    "ax.scatter(domain, np.exp(PotionProbs.score_samples(domain)), color='green', label='With Potion')\n",
    "ax.axvline(x=X.max()[0], color='blue', label='Best Result Without')\n",
    "ax.axvline(x=X2.max()[0], color='yellow', label='Best Result With Potion')\n",
    "ax.title.set_text(\"Potion means more high performers.\")\n",
    "\n",
    "ax.legend()\n",
    "\n",
    "fig.savefig('Distribution1.png')"
   ]
  },
  {
   "cell_type": "code",
   "execution_count": 12,
   "metadata": {},
   "outputs": [
    {
     "data": {
      "image/png": "[encoded data removed]",
      "text/plain": [
       "<Figure size 432x288 with 1 Axes>"
      ]
     },
     "metadata": {
      "needs_background": "light"
     },
     "output_type": "display_data"
    }
   ],
   "source": [
    "domain2 = np.linspace([16], [22], num=500)\n",
    "\n",
    "\n",
    "fig, ax = plt.subplots()\n",
    "\n",
    "ax.scatter(domain2, np.exp(noPotionProbs.score_samples(domain2)), color='red', label='No Potion')\n",
    "ax.scatter(domain2, np.exp(PotionProbs.score_samples(domain2)), color='green', label='With Potion')\n",
    "ax.axvline(x=X.max()[0], color='blue', label='Best Result Without')\n",
    "ax.axvline(x=X2.max()[0], color='yellow', label='Best Result With Potion')\n",
    "ax.title.set_text(\"Potion Allows Record Breaking Performance.\")\n",
    "ax.legend()\n",
    "\n",
    "\n",
    "fig.savefig('Distribution2.png')"
   ]
  },
  {
   "cell_type": "code",
   "execution_count": null,
   "metadata": {},
   "outputs": [],
   "source": []
  }
 ],
 "metadata": {
  "kernelspec": {
   "display_name": "Python 3",
   "language": "python",
   "name": "python3"
  },
  "language_info": {
   "codemirror_mode": {
    "name": "ipython",
    "version": 3
   },
   "file_extension": ".py",
   "mimetype": "text/x-python",
   "name": "python",
   "nbconvert_exporter": "python",
   "pygments_lexer": "ipython3",
   "version": "3.7.4"
  }
 },
 "nbformat": 4,
 "nbformat_minor": 2
}
